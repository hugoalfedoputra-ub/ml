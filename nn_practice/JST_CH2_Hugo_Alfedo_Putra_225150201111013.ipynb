{
  "nbformat": 4,
  "nbformat_minor": 0,
  "metadata": {
    "colab": {
      "provenance": [],
      "authorship_tag": "ABX9TyNfVsTllqjgWllpRmon7S/l",
      "include_colab_link": true
    },
    "kernelspec": {
      "name": "python3",
      "display_name": "Python 3"
    },
    "language_info": {
      "name": "python"
    }
  },
  "cells": [
    {
      "cell_type": "markdown",
      "metadata": {
        "id": "view-in-github",
        "colab_type": "text"
      },
      "source": [
        "<a href=\"https://colab.research.google.com/github/hugoalfedoputra-ub/ml/blob/main/nn_practice/JST_CH2_Hugo_Alfedo_Putra_225150201111013.ipynb\" target=\"_parent\"><img src=\"https://colab.research.google.com/assets/colab-badge.svg\" alt=\"Open In Colab\"/></a>"
      ]
    },
    {
      "cell_type": "markdown",
      "source": [
        "# Hebb net"
      ],
      "metadata": {
        "id": "O4tGajqm1uay"
      }
    },
    {
      "cell_type": "code",
      "source": [
        "import numpy as np\n",
        "\n",
        "# Definisikan data untuk huruf L, U, I, dan O berdasarkan studi kasus\n",
        "data_L = 1, -1, -1, 1, -1, -1, 1, 1, 1\n",
        "data_U = 1, -1, 1, 1, -1, 1, 1, 1, 1\n",
        "data_I = 1, 1, 1, -1, 1, -1, 1, 1, 1\n",
        "data_O = 1, 1, 1, 1, -1, 1, 1, 1, 1\n",
        "\n",
        "# ones untuk definisi bias\n",
        "ones = np.ones((2,1))\n",
        "\n",
        "# target adalah target, L itu 1 dan U itu -1\n",
        "target = 1, -1\n",
        "\n",
        "# Definisikan semua weight dan bobot menjadi 0\n",
        "w = [0 for _ in range(len(data_L))]\n",
        "b = [0]"
      ],
      "metadata": {
        "id": "NNgQtOFc6ACE"
      },
      "execution_count": 54,
      "outputs": []
    },
    {
      "cell_type": "code",
      "source": [
        "def bipstep(net, th=0):\n",
        "  return 1 if net>=th else -1\n",
        "\n",
        "temp = np.vstack((data_L, data_U))\n",
        "data = np.hstack((temp, ones))\n",
        "wb = np.hstack((w, b))\n",
        "th = 0\n",
        "\n",
        "wb_baru = [0 for _ in range(len(wb))]\n",
        "for r, row in enumerate(data):\n",
        "  print('Baris ke', r)\n",
        "  print(row)\n",
        "  wb_baru = np.add(wb_baru, [wb[i] + row[i] * target[r] for i in range(len(row))])\n",
        "  print('Memiliki bobot-bobot')\n",
        "  print(wb_baru)\n",
        "  print()\n",
        "\n",
        "w_out = wb_baru[:-1]\n",
        "b_out = wb_baru[-1]\n",
        "print(f'Bobot-bobot akhir:\\n{w_out}\\n')\n",
        "print(f'Bias akhir:\\n{b_out}\\n')\n",
        "\n",
        "net_I = np.dot(data_I, w_out) + b_out\n",
        "net_O = np.dot(data_O, w_out) + b_out\n",
        "print('Huruf I termasuk golongan:', 'L' if bipstep(net_I, th)>=th else 'U')\n",
        "print('Huruf O termasuk golongan:', 'L' if bipstep(net_O, th)>=th else 'U')"
      ],
      "metadata": {
        "colab": {
          "base_uri": "https://localhost:8080/"
        },
        "id": "ahENNKKu7INw",
        "outputId": "de5a96e2-8030-4d14-beb9-014d7ea5136b"
      },
      "execution_count": 67,
      "outputs": [
        {
          "output_type": "stream",
          "name": "stdout",
          "text": [
            "Baris ke 0\n",
            "[ 1. -1. -1.  1. -1. -1.  1.  1.  1.  1.]\n",
            "Memiliki bobot-bobot\n",
            "[ 1. -1. -1.  1. -1. -1.  1.  1.  1.  1.]\n",
            "\n",
            "Baris ke 1\n",
            "[ 1. -1.  1.  1. -1.  1.  1.  1.  1.  1.]\n",
            "Memiliki bobot-bobot\n",
            "[ 0.  0. -2.  0.  0. -2.  0.  0.  0.  0.]\n",
            "\n",
            "Bobot-bobot akhir:\n",
            "[ 0.  0. -2.  0.  0. -2.  0.  0.  0.]\n",
            "\n",
            "Bias akhir:\n",
            "0.0\n",
            "\n",
            "Huruf I termasuk golongan: L\n",
            "Huruf O termasuk golongan: U\n"
          ]
        }
      ]
    },
    {
      "cell_type": "markdown",
      "source": [
        "# Hasil akhir\n",
        "\n",
        "```\n",
        "Baris ke 0\n",
        "[ 1. -1. -1.  1. -1. -1.  1.  1.  1.  1.]\n",
        "Memiliki bobot-bobot\n",
        "[ 1. -1. -1.  1. -1. -1.  1.  1.  1.  1.]\n",
        "\n",
        "Baris ke 1\n",
        "[ 1. -1.  1.  1. -1.  1.  1.  1.  1.  1.]\n",
        "Memiliki bobot-bobot\n",
        "[ 0.  0. -2.  0.  0. -2.  0.  0.  0.  0.]\n",
        "\n",
        "Bobot-bobot akhir:\n",
        "[ 0.  0. -2.  0.  0. -2.  0.  0.  0.]\n",
        "\n",
        "Bias akhir:\n",
        "0.0\n",
        "\n",
        "Huruf I termasuk golongan: L\n",
        "Huruf O termasuk golongan: U\n",
        "```"
      ],
      "metadata": {
        "id": "KzHthkIx_gYJ"
      }
    }
  ]
}
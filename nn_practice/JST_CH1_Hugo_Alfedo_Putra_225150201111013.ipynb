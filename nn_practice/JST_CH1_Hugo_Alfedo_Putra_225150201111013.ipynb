{
  "nbformat": 4,
  "nbformat_minor": 0,
  "metadata": {
    "colab": {
      "provenance": [],
      "authorship_tag": "ABX9TyNLuBTNnkjbc3C4PR+RGyOu",
      "include_colab_link": true
    },
    "kernelspec": {
      "name": "python3",
      "display_name": "Python 3"
    },
    "language_info": {
      "name": "python"
    }
  },
  "cells": [
    {
      "cell_type": "markdown",
      "metadata": {
        "id": "view-in-github",
        "colab_type": "text"
      },
      "source": [
        "<a href=\"https://colab.research.google.com/github/hugoalfedoputra-ub/ml/blob/main/nn_practice/JST_CH1_Hugo_Alfedo_Putra_225150201111013.ipynb\" target=\"_parent\"><img src=\"https://colab.research.google.com/assets/colab-badge.svg\" alt=\"Open In Colab\"/></a>"
      ]
    },
    {
      "cell_type": "code",
      "execution_count": 1,
      "metadata": {
        "id": "ixMRly05z62T"
      },
      "outputs": [],
      "source": [
        "import numpy as np\n",
        "import math"
      ]
    },
    {
      "cell_type": "code",
      "source": [
        "def activate(sum,thres):\n",
        "  return 1 if sum>=thres else 0\n",
        "\n",
        "def MCP(x1,x2,w1,w2):\n",
        "  sum = x1*w1 + x2*w2\n",
        "  thres = (x1*w2 + x2*w1)*(1+math.sin(x1+x2))\n",
        "  out = activate(sum,thres)\n",
        "  return out\n",
        "\n",
        "# Data ke-500 atau U_500 pada U_n = 2n-1 untuk x_1 dan U_n = 2n untuk x_2\n",
        "x1 = 2 * 500 -1\n",
        "x2 = 2 * 500\n",
        "w1 = x1 * x2\n",
        "w2 = x1 + x2\n",
        "\n",
        "out = MCP(x1,x2,w1,w2)\n",
        "print(out)"
      ],
      "metadata": {
        "colab": {
          "base_uri": "https://localhost:8080/"
        },
        "id": "1F0ZoDYk1dU_",
        "outputId": "c3d6ce93-a17d-4c43-bd94-fa4c5e5fda95"
      },
      "execution_count": 5,
      "outputs": [
        {
          "output_type": "stream",
          "name": "stdout",
          "text": [
            "0\n"
          ]
        }
      ]
    }
  ]
}